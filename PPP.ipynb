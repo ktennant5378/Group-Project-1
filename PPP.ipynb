{
 "cells": [
  {
   "cell_type": "code",
   "execution_count": 165,
   "id": "84e9cf10-bcfe-43e4-9fc9-5550e6f7a823",
   "metadata": {},
   "outputs": [],
   "source": [
    "import pandas as pd\n",
    "import matplotlib.pyplot as plt\n",
    "from scipy import stats as st\n",
    "import seaborn as sns\n",
    "import numpy as np"
   ]
  },
  {
   "cell_type": "code",
   "execution_count": 166,
   "id": "1111dd1c",
   "metadata": {},
   "outputs": [],
   "source": [
    "# Store filepath into variable\n",
    "healthcare_dataset_csv = Path(\"Data/healthcare_dataset.csv\")"
   ]
  },
  {
   "cell_type": "code",
   "execution_count": 167,
   "id": "13c55957",
   "metadata": {},
   "outputs": [
    {
     "data": {
      "text/html": [
       "<div>\n",
       "<style scoped>\n",
       "    .dataframe tbody tr th:only-of-type {\n",
       "        vertical-align: middle;\n",
       "    }\n",
       "\n",
       "    .dataframe tbody tr th {\n",
       "        vertical-align: top;\n",
       "    }\n",
       "\n",
       "    .dataframe thead th {\n",
       "        text-align: right;\n",
       "    }\n",
       "</style>\n",
       "<table border=\"1\" class=\"dataframe\">\n",
       "  <thead>\n",
       "    <tr style=\"text-align: right;\">\n",
       "      <th></th>\n",
       "      <th>gender</th>\n",
       "      <th>age</th>\n",
       "      <th>hypertension</th>\n",
       "      <th>heart_disease</th>\n",
       "      <th>smoking_history</th>\n",
       "      <th>bmi</th>\n",
       "      <th>HbA1c_level</th>\n",
       "      <th>blood_glucose_level</th>\n",
       "      <th>diabetes</th>\n",
       "      <th>hypertension_bool</th>\n",
       "      <th>heart_disease_bool</th>\n",
       "      <th>diabetes_bool</th>\n",
       "    </tr>\n",
       "  </thead>\n",
       "  <tbody>\n",
       "    <tr>\n",
       "      <th>0</th>\n",
       "      <td>Female</td>\n",
       "      <td>80.0</td>\n",
       "      <td>0</td>\n",
       "      <td>1</td>\n",
       "      <td>never</td>\n",
       "      <td>25.19</td>\n",
       "      <td>6.6</td>\n",
       "      <td>140</td>\n",
       "      <td>0</td>\n",
       "      <td>False</td>\n",
       "      <td>True</td>\n",
       "      <td>False</td>\n",
       "    </tr>\n",
       "    <tr>\n",
       "      <th>1</th>\n",
       "      <td>Female</td>\n",
       "      <td>54.0</td>\n",
       "      <td>0</td>\n",
       "      <td>0</td>\n",
       "      <td>No Info</td>\n",
       "      <td>27.32</td>\n",
       "      <td>6.6</td>\n",
       "      <td>80</td>\n",
       "      <td>0</td>\n",
       "      <td>False</td>\n",
       "      <td>False</td>\n",
       "      <td>False</td>\n",
       "    </tr>\n",
       "    <tr>\n",
       "      <th>2</th>\n",
       "      <td>Male</td>\n",
       "      <td>28.0</td>\n",
       "      <td>0</td>\n",
       "      <td>0</td>\n",
       "      <td>never</td>\n",
       "      <td>27.32</td>\n",
       "      <td>5.7</td>\n",
       "      <td>158</td>\n",
       "      <td>0</td>\n",
       "      <td>False</td>\n",
       "      <td>False</td>\n",
       "      <td>False</td>\n",
       "    </tr>\n",
       "    <tr>\n",
       "      <th>3</th>\n",
       "      <td>Female</td>\n",
       "      <td>36.0</td>\n",
       "      <td>0</td>\n",
       "      <td>0</td>\n",
       "      <td>current</td>\n",
       "      <td>23.45</td>\n",
       "      <td>5.0</td>\n",
       "      <td>155</td>\n",
       "      <td>0</td>\n",
       "      <td>False</td>\n",
       "      <td>False</td>\n",
       "      <td>False</td>\n",
       "    </tr>\n",
       "    <tr>\n",
       "      <th>4</th>\n",
       "      <td>Male</td>\n",
       "      <td>76.0</td>\n",
       "      <td>1</td>\n",
       "      <td>1</td>\n",
       "      <td>current</td>\n",
       "      <td>20.14</td>\n",
       "      <td>4.8</td>\n",
       "      <td>155</td>\n",
       "      <td>0</td>\n",
       "      <td>True</td>\n",
       "      <td>True</td>\n",
       "      <td>False</td>\n",
       "    </tr>\n",
       "  </tbody>\n",
       "</table>\n",
       "</div>"
      ],
      "text/plain": [
       "   gender   age  hypertension  heart_disease smoking_history    bmi  \\\n",
       "0  Female  80.0             0              1           never  25.19   \n",
       "1  Female  54.0             0              0         No Info  27.32   \n",
       "2    Male  28.0             0              0           never  27.32   \n",
       "3  Female  36.0             0              0         current  23.45   \n",
       "4    Male  76.0             1              1         current  20.14   \n",
       "\n",
       "   HbA1c_level  blood_glucose_level  diabetes  hypertension_bool  \\\n",
       "0          6.6                  140         0              False   \n",
       "1          6.6                   80         0              False   \n",
       "2          5.7                  158         0              False   \n",
       "3          5.0                  155         0              False   \n",
       "4          4.8                  155         0               True   \n",
       "\n",
       "   heart_disease_bool  diabetes_bool  \n",
       "0                True          False  \n",
       "1               False          False  \n",
       "2               False          False  \n",
       "3               False          False  \n",
       "4                True          False  "
      ]
     },
     "execution_count": 167,
     "metadata": {},
     "output_type": "execute_result"
    }
   ],
   "source": [
    "# Reading in file.\n",
    "# adding three boolean columns for all the 3 diseases(0 = 'FALSE', 1 = 'TRUE').\n",
    "healthcare_dataset_df = pd.read_csv(healthcare_dataset_csv)\n",
    "healthcare_dataset_df['hypertension_bool'] = healthcare_dataset_df['hypertension'].astype(bool)\n",
    "healthcare_dataset_df['heart_disease_bool'] = healthcare_dataset_df['heart_disease'].astype(bool)\n",
    "healthcare_dataset_df['diabetes_bool'] = healthcare_dataset_df['diabetes'].astype(bool)\n",
    "healthcare_dataset_df.head()"
   ]
  },
  {
   "cell_type": "code",
   "execution_count": 168,
   "id": "79a2353e",
   "metadata": {},
   "outputs": [
    {
     "data": {
      "text/plain": [
       "gender                 0\n",
       "age                    0\n",
       "hypertension           0\n",
       "heart_disease          0\n",
       "smoking_history        0\n",
       "bmi                    0\n",
       "HbA1c_level            0\n",
       "blood_glucose_level    0\n",
       "diabetes               0\n",
       "hypertension_bool      0\n",
       "heart_disease_bool     0\n",
       "diabetes_bool          0\n",
       "dtype: int64"
      ]
     },
     "execution_count": 168,
     "metadata": {},
     "output_type": "execute_result"
    }
   ],
   "source": [
    "#handling missing values\n",
    "healthcare_dataset_df.isnull().sum()"
   ]
  },
  {
   "cell_type": "code",
   "execution_count": 169,
   "id": "a9bc551f",
   "metadata": {},
   "outputs": [],
   "source": [
    "# removing duplicate rows.\n",
    "healthcare_dataset_df = healthcare_dataset_df.drop_duplicates()"
   ]
  },
  {
   "cell_type": "code",
   "execution_count": 170,
   "id": "996a9422",
   "metadata": {},
   "outputs": [
    {
     "data": {
      "text/html": [
       "<div>\n",
       "<style scoped>\n",
       "    .dataframe tbody tr th:only-of-type {\n",
       "        vertical-align: middle;\n",
       "    }\n",
       "\n",
       "    .dataframe tbody tr th {\n",
       "        vertical-align: top;\n",
       "    }\n",
       "\n",
       "    .dataframe thead th {\n",
       "        text-align: right;\n",
       "    }\n",
       "</style>\n",
       "<table border=\"1\" class=\"dataframe\">\n",
       "  <thead>\n",
       "    <tr style=\"text-align: right;\">\n",
       "      <th></th>\n",
       "      <th>GENDER</th>\n",
       "      <th>AGE</th>\n",
       "      <th>HYPERTENSION</th>\n",
       "      <th>HEART_DISEASE</th>\n",
       "      <th>SMOKING_HISTORY</th>\n",
       "      <th>BMI</th>\n",
       "      <th>HBA1C_LEVEL</th>\n",
       "      <th>BLOOD_GLUCOSE_LEVEL</th>\n",
       "      <th>DIABETES</th>\n",
       "      <th>HYPERTENSION_BOOL</th>\n",
       "      <th>HEART_DISEASE_BOOL</th>\n",
       "      <th>DIABETES_BOOL</th>\n",
       "    </tr>\n",
       "  </thead>\n",
       "  <tbody>\n",
       "    <tr>\n",
       "      <th>0</th>\n",
       "      <td>Female</td>\n",
       "      <td>80.0</td>\n",
       "      <td>0</td>\n",
       "      <td>1</td>\n",
       "      <td>never</td>\n",
       "      <td>25.19</td>\n",
       "      <td>6.6</td>\n",
       "      <td>140</td>\n",
       "      <td>0</td>\n",
       "      <td>False</td>\n",
       "      <td>True</td>\n",
       "      <td>False</td>\n",
       "    </tr>\n",
       "    <tr>\n",
       "      <th>1</th>\n",
       "      <td>Female</td>\n",
       "      <td>54.0</td>\n",
       "      <td>0</td>\n",
       "      <td>0</td>\n",
       "      <td>No Info</td>\n",
       "      <td>27.32</td>\n",
       "      <td>6.6</td>\n",
       "      <td>80</td>\n",
       "      <td>0</td>\n",
       "      <td>False</td>\n",
       "      <td>False</td>\n",
       "      <td>False</td>\n",
       "    </tr>\n",
       "    <tr>\n",
       "      <th>2</th>\n",
       "      <td>Male</td>\n",
       "      <td>28.0</td>\n",
       "      <td>0</td>\n",
       "      <td>0</td>\n",
       "      <td>never</td>\n",
       "      <td>27.32</td>\n",
       "      <td>5.7</td>\n",
       "      <td>158</td>\n",
       "      <td>0</td>\n",
       "      <td>False</td>\n",
       "      <td>False</td>\n",
       "      <td>False</td>\n",
       "    </tr>\n",
       "    <tr>\n",
       "      <th>3</th>\n",
       "      <td>Female</td>\n",
       "      <td>36.0</td>\n",
       "      <td>0</td>\n",
       "      <td>0</td>\n",
       "      <td>current</td>\n",
       "      <td>23.45</td>\n",
       "      <td>5.0</td>\n",
       "      <td>155</td>\n",
       "      <td>0</td>\n",
       "      <td>False</td>\n",
       "      <td>False</td>\n",
       "      <td>False</td>\n",
       "    </tr>\n",
       "    <tr>\n",
       "      <th>4</th>\n",
       "      <td>Male</td>\n",
       "      <td>76.0</td>\n",
       "      <td>1</td>\n",
       "      <td>1</td>\n",
       "      <td>current</td>\n",
       "      <td>20.14</td>\n",
       "      <td>4.8</td>\n",
       "      <td>155</td>\n",
       "      <td>0</td>\n",
       "      <td>True</td>\n",
       "      <td>True</td>\n",
       "      <td>False</td>\n",
       "    </tr>\n",
       "  </tbody>\n",
       "</table>\n",
       "</div>"
      ],
      "text/plain": [
       "   GENDER   AGE  HYPERTENSION  HEART_DISEASE SMOKING_HISTORY    BMI  \\\n",
       "0  Female  80.0             0              1           never  25.19   \n",
       "1  Female  54.0             0              0         No Info  27.32   \n",
       "2    Male  28.0             0              0           never  27.32   \n",
       "3  Female  36.0             0              0         current  23.45   \n",
       "4    Male  76.0             1              1         current  20.14   \n",
       "\n",
       "   HBA1C_LEVEL  BLOOD_GLUCOSE_LEVEL  DIABETES  HYPERTENSION_BOOL  \\\n",
       "0          6.6                  140         0              False   \n",
       "1          6.6                   80         0              False   \n",
       "2          5.7                  158         0              False   \n",
       "3          5.0                  155         0              False   \n",
       "4          4.8                  155         0               True   \n",
       "\n",
       "   HEART_DISEASE_BOOL  DIABETES_BOOL  \n",
       "0                True          False  \n",
       "1               False          False  \n",
       "2               False          False  \n",
       "3               False          False  \n",
       "4                True          False  "
      ]
     },
     "execution_count": 170,
     "metadata": {},
     "output_type": "execute_result"
    }
   ],
   "source": [
    "# renaming the Column header Names:\n",
    "healthcare_dataset_df.columns = healthcare_dataset_df.columns.str.upper()\n",
    "healthcare_dataset_df.head()"
   ]
  },
  {
   "cell_type": "code",
   "execution_count": 171,
   "id": "e7ee30df",
   "metadata": {},
   "outputs": [
    {
     "data": {
      "text/html": [
       "<div>\n",
       "<style scoped>\n",
       "    .dataframe tbody tr th:only-of-type {\n",
       "        vertical-align: middle;\n",
       "    }\n",
       "\n",
       "    .dataframe tbody tr th {\n",
       "        vertical-align: top;\n",
       "    }\n",
       "\n",
       "    .dataframe thead th {\n",
       "        text-align: right;\n",
       "    }\n",
       "</style>\n",
       "<table border=\"1\" class=\"dataframe\">\n",
       "  <thead>\n",
       "    <tr style=\"text-align: right;\">\n",
       "      <th></th>\n",
       "      <th>GENDER</th>\n",
       "      <th>AGE</th>\n",
       "      <th>HYPERTENSION</th>\n",
       "      <th>HEART_DISEASE</th>\n",
       "      <th>SMOKING_HISTORY</th>\n",
       "      <th>BMI</th>\n",
       "      <th>HBA1C_LEVEL</th>\n",
       "      <th>BLOOD_GLUCOSE_LEVEL</th>\n",
       "      <th>DIABETES</th>\n",
       "      <th>HYPERTENSION_BOOL</th>\n",
       "      <th>HEART_DISEASE_BOOL</th>\n",
       "      <th>DIABETES_BOOL</th>\n",
       "    </tr>\n",
       "  </thead>\n",
       "  <tbody>\n",
       "    <tr>\n",
       "      <th>0</th>\n",
       "      <td>Female</td>\n",
       "      <td>80</td>\n",
       "      <td>0</td>\n",
       "      <td>1</td>\n",
       "      <td>never</td>\n",
       "      <td>25.19</td>\n",
       "      <td>6.6</td>\n",
       "      <td>140.0</td>\n",
       "      <td>0</td>\n",
       "      <td>False</td>\n",
       "      <td>True</td>\n",
       "      <td>False</td>\n",
       "    </tr>\n",
       "    <tr>\n",
       "      <th>1</th>\n",
       "      <td>Female</td>\n",
       "      <td>54</td>\n",
       "      <td>0</td>\n",
       "      <td>0</td>\n",
       "      <td>No Info</td>\n",
       "      <td>27.32</td>\n",
       "      <td>6.6</td>\n",
       "      <td>80.0</td>\n",
       "      <td>0</td>\n",
       "      <td>False</td>\n",
       "      <td>False</td>\n",
       "      <td>False</td>\n",
       "    </tr>\n",
       "    <tr>\n",
       "      <th>2</th>\n",
       "      <td>Male</td>\n",
       "      <td>28</td>\n",
       "      <td>0</td>\n",
       "      <td>0</td>\n",
       "      <td>never</td>\n",
       "      <td>27.32</td>\n",
       "      <td>5.7</td>\n",
       "      <td>158.0</td>\n",
       "      <td>0</td>\n",
       "      <td>False</td>\n",
       "      <td>False</td>\n",
       "      <td>False</td>\n",
       "    </tr>\n",
       "    <tr>\n",
       "      <th>3</th>\n",
       "      <td>Female</td>\n",
       "      <td>36</td>\n",
       "      <td>0</td>\n",
       "      <td>0</td>\n",
       "      <td>current</td>\n",
       "      <td>23.45</td>\n",
       "      <td>5.0</td>\n",
       "      <td>155.0</td>\n",
       "      <td>0</td>\n",
       "      <td>False</td>\n",
       "      <td>False</td>\n",
       "      <td>False</td>\n",
       "    </tr>\n",
       "    <tr>\n",
       "      <th>4</th>\n",
       "      <td>Male</td>\n",
       "      <td>76</td>\n",
       "      <td>1</td>\n",
       "      <td>1</td>\n",
       "      <td>current</td>\n",
       "      <td>20.14</td>\n",
       "      <td>4.8</td>\n",
       "      <td>155.0</td>\n",
       "      <td>0</td>\n",
       "      <td>True</td>\n",
       "      <td>True</td>\n",
       "      <td>False</td>\n",
       "    </tr>\n",
       "  </tbody>\n",
       "</table>\n",
       "</div>"
      ],
      "text/plain": [
       "   GENDER  AGE  HYPERTENSION  HEART_DISEASE SMOKING_HISTORY    BMI  \\\n",
       "0  Female   80             0              1           never  25.19   \n",
       "1  Female   54             0              0         No Info  27.32   \n",
       "2    Male   28             0              0           never  27.32   \n",
       "3  Female   36             0              0         current  23.45   \n",
       "4    Male   76             1              1         current  20.14   \n",
       "\n",
       "   HBA1C_LEVEL  BLOOD_GLUCOSE_LEVEL  DIABETES  HYPERTENSION_BOOL  \\\n",
       "0          6.6                140.0         0              False   \n",
       "1          6.6                 80.0         0              False   \n",
       "2          5.7                158.0         0              False   \n",
       "3          5.0                155.0         0              False   \n",
       "4          4.8                155.0         0               True   \n",
       "\n",
       "   HEART_DISEASE_BOOL  DIABETES_BOOL  \n",
       "0                True          False  \n",
       "1               False          False  \n",
       "2               False          False  \n",
       "3               False          False  \n",
       "4                True          False  "
      ]
     },
     "execution_count": 171,
     "metadata": {},
     "output_type": "execute_result"
    }
   ],
   "source": [
    "# Converting Data Types:\n",
    "healthcare_dataset_df['AGE'] = healthcare_dataset_df['AGE'].astype(int)\n",
    "healthcare_dataset_df['BLOOD_GLUCOSE_LEVEL'] = healthcare_dataset_df['BLOOD_GLUCOSE_LEVEL'].astype(float)\n",
    "healthcare_dataset_df.head()"
   ]
  },
  {
   "cell_type": "code",
   "execution_count": 172,
   "id": "fc77db02",
   "metadata": {},
   "outputs": [
    {
     "name": "stdout",
     "output_type": "stream",
     "text": [
      "Correlation between age and hypertension_bool is : 0.26\n"
     ]
    }
   ],
   "source": [
    "# Calculate correlation coefficient between age and hypertension\n",
    "correlation_age_hypertension, _ = st.pearsonr(healthcare_dataset_df['AGE'], healthcare_dataset_df['HYPERTENSION_BOOL'])\n",
    "print(f\"Correlation between age and hypertension_bool is : {correlation_age_hypertension:.2f}\")"
   ]
  },
  {
   "cell_type": "code",
   "execution_count": 173,
   "id": "d10ee930",
   "metadata": {},
   "outputs": [
    {
     "data": {
      "image/png": "[encoded data removed]",
      "text/plain": [
       "<Figure size 1000x600 with 1 Axes>"
      ]
     },
     "metadata": {},
     "output_type": "display_data"
    }
   ],
   "source": [
    "\n",
    "# Box plot\n",
    "plt.figure(figsize=(10, 6))\n",
    "sns.boxplot(x='HYPERTENSION_BOOL', y='AGE', data=healthcare_dataset_df)\n",
    "plt.title('Box Plot of Age for Hypertension (True/False)')\n",
    "plt.xlabel('Hypertension')\n",
    "plt.ylabel('Age')\n",
    "plt.show()\n"
   ]
  },
  {
   "cell_type": "code",
   "execution_count": 174,
   "id": "1126ed74",
   "metadata": {},
   "outputs": [
    {
     "name": "stdout",
     "output_type": "stream",
     "text": [
      "Correlation between age and heart disease is : 0.24\n"
     ]
    }
   ],
   "source": [
    "# Calculate correlation coefficient between age and heart_disease\n",
    "correlation_age_heart_disease, _ = st.pearsonr(healthcare_dataset_df['AGE'], healthcare_dataset_df['HEART_DISEASE_BOOL'])\n",
    "print(f\"Correlation between age and heart disease is : {correlation_age_heart_disease:.2f}\")"
   ]
  },
  {
   "cell_type": "code",
   "execution_count": 175,
   "id": "2ba13eb1",
   "metadata": {},
   "outputs": [
    {
     "data": {
      "image/png": "[encoded data removed]",
      "text/plain": [
       "<Figure size 1000x600 with 1 Axes>"
      ]
     },
     "metadata": {},
     "output_type": "display_data"
    }
   ],
   "source": [
    "# Box plot\n",
    "plt.figure(figsize=(10, 6))\n",
    "sns.boxplot(x='HEART_DISEASE_BOOL', y='AGE', data=healthcare_dataset_df)\n",
    "plt.title('Box Plot of Age for Hypertension (True/False)')\n",
    "plt.xlabel('HEART_DISEASE')\n",
    "plt.ylabel('Age')\n",
    "plt.show()\n"
   ]
  },
  {
   "cell_type": "code",
   "execution_count": 176,
   "id": "31e02bf2-7e15-4b93-ac49-f7e6a8f185fa",
   "metadata": {},
   "outputs": [],
   "source": [
    "#Question 2: Correlation between gender and hypertension/heart disease"
   ]
  },
  {
   "cell_type": "code",
   "execution_count": 177,
   "id": "4a6b3b57",
   "metadata": {},
   "outputs": [],
   "source": [
    "#Question 3: Correlation between BMI, blood sugar and diabetes\n"
   ]
  },
  {
   "cell_type": "code",
   "execution_count": 178,
   "id": "dc9c911a-8bfd-4755-af52-ccda0de9523e",
   "metadata": {},
   "outputs": [
    {
     "data": {
      "image/png": "[encoded data removed]",
      "text/plain": [
       "<Figure size 640x480 with 1 Axes>"
      ]
     },
     "metadata": {},
     "output_type": "display_data"
    }
   ],
   "source": [
    "#Question 4 & 5: Distribution of diabetes, heart disease and hypertension across age groups\n",
    "#Create binsand labels by age\n",
    "bins = [0, 30, 50, 70, 90]\n",
    "ranges = ['<30', '30-50', '50-70', 'Over 70']\n",
    "\n",
    "#Bin subjects by age-group and pull those where Diabetes == 1\n",
    "healthcare_dataset_df['Age Group'] = pd.cut(healthcare_dataset_df['AGE'], bins, labels=ranges)\n",
    "\n",
    "#diabetes == 1\n",
    "diabetes_df = healthcare_dataset_df[healthcare_dataset_df['DIABETES'].astype('int') == 1]\n",
    "#Get count by age group \n",
    "diabetes_data = diabetes_df.groupby(\"Age Group\", observed=False)['DIABETES'].agg('count')\n",
    "diabetes_age_df = pd.DataFrame({'Age Group': diabetes_data.index, \"Diabetes Count\": diabetes_data.values})\n",
    "\n",
    "#hypertension == 1\n",
    "hypertension_df = healthcare_dataset_df[healthcare_dataset_df['HYPERTENSION'].astype('int') == 1]\n",
    "#Get count by age group \n",
    "hyper_data = hypertension_df.groupby(\"Age Group\", observed=False)['HYPERTENSION'].agg('count')\n",
    "hypertension_age_df = pd.DataFrame({'Age Group': hyper_data.index, \"Hypertension Count\": hyper_data.values})\n",
    "\n",
    "#heart disease == 1\n",
    "heart_disease_df = healthcare_dataset_df[healthcare_dataset_df['HEART_DISEASE'].astype('int') == 1]\n",
    "#Get count by age group\n",
    "heartd_data = hypertension_df.groupby(\"Age Group\", observed=False)['HEART_DISEASE'].agg('count')\n",
    "heartd_by_age_df = pd.DataFrame({'Age Group': heartd_data.index, \"HeartD Count\": heartd_data.values})\n",
    "\n",
    "#Merge all into single df\n",
    "all_health_df = diabetes_age_df.merge(hypertension_age_df, on='Age Group', how='left')\n",
    "all_health_df = all_health_df.merge(heartd_by_age_df, on='Age Group', how = 'left')\n",
    "\n",
    "#plot on chart\n",
    "all_health_df.plot(kind='bar')\n",
    "plt.xlabel(\"Age Group\", fontsize=12)\n",
    "plt.ylabel(\"Positive Count\", fontsize=12)\n",
    "plt.xticks(np.arange(4), all_health_df['Age Group'], rotation=90)\n",
    "plt.savefig('Images/Health-by-Age.png')\n",
    "plt.show()\n"
   ]
  },
  {
   "cell_type": "code",
   "execution_count": 179,
   "id": "b99d4c6d-6753-4aae-aa29-e71a3d894212",
   "metadata": {},
   "outputs": [
    {
     "name": "stdout",
     "output_type": "stream",
     "text": [
      "Correlation for diabetes to hypertension is 0.19570970179625766.\n",
      "Correlation for diabetes to heart disease is 0.17071089766632194.\n"
     ]
    }
   ],
   "source": [
    "#Question 6: Correlation between hbA1c/diabetes and heart disease/hypertension\n",
    "diabetes_hyper = healthcare_dataset_df['DIABETES'].corr(healthcare_dataset_df['HYPERTENSION'])\n",
    "diabetes_heartd = healthcare_dataset_df['DIABETES'].corr(healthcare_dataset_df['HEART_DISEASE'])\n",
    "\n",
    "#Display correlation for each comparison\n",
    "print(f'Correlation for diabetes to hypertension is {diabetes_hyper}.')\n",
    "print(f'Correlation for diabetes to heart disease is {diabetes_heartd}.')\n",
    "\n",
    "diabetes_hyper_df = healthcare_dataset_df[(healthcare_dataset_df['DIABETES'] == 1) & (healthcare_dataset_df['HYPERTENSION'] == 1)]\n"
   ]
  },
  {
   "cell_type": "code",
   "execution_count": null,
   "id": "3ed3d543-1bd0-4fd1-bb9e-61d7ec9f5d7c",
   "metadata": {},
   "outputs": [],
   "source": []
  }
 ],
 "metadata": {
  "kernelspec": {
   "display_name": "Python 3 (ipykernel)",
   "language": "python",
   "name": "python3"
  },
  "language_info": {
   "codemirror_mode": {
    "name": "ipython",
    "version": 3
   },
   "file_extension": ".py",
   "mimetype": "text/x-python",
   "name": "python",
   "nbconvert_exporter": "python",
   "pygments_lexer": "ipython3",
   "version": "3.11.5"
  }
 },
 "nbformat": 4,
 "nbformat_minor": 5
}
